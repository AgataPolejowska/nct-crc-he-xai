{
 "cells": [
  {
   "cell_type": "code",
   "execution_count": 3,
   "metadata": {},
   "outputs": [],
   "source": [
    "import os\n",
    "\n",
    "\n",
    "dataset_orig_dir = '../NCT-CRC-HE-100K'\n",
    "dataset_target_dir = '../NCT-CRC-HE-small-5k-per-class'\n",
    "\n",
    "folders_classes_names = ['ADI', 'BACK', 'DEB', 'LYM', 'MUC', 'MUS', 'NORM', 'STR', 'TUM']\n",
    "\n",
    "assert len(folders_classes_names) == len([f for f in os.listdir(dataset_orig_dir) if not f.startswith('.')])\n",
    "\n",
    "# Create target directory & all intermediate directories if don't exists\n",
    "if not os.path.exists(dataset_target_dir):\n",
    "    os.makedirs(dataset_target_dir)\n",
    "\n",
    "for folder_class_name in folders_classes_names:\n",
    "    folder_class_orig_path = os.path.join(dataset_orig_dir, folder_class_name)\n",
    "    folder_class_target_path = os.path.join(dataset_target_dir, folder_class_name)\n",
    "    if not os.path.exists(folder_class_target_path):\n",
    "        os.makedirs(folder_class_target_path)\n",
    "\n",
    "    files = [f for f in os.listdir(folder_class_orig_path) if not f.startswith('.')]\n",
    "\n",
    "    for i in range(5000):\n",
    "        file_name = files[i]\n",
    "        file_orig_path = os.path.join(folder_class_orig_path, file_name)\n",
    "        file_target_path = os.path.join(folder_class_target_path, file_name)\n",
    "        os.system('cp {} {}'.format(file_orig_path, file_target_path))"
   ]
  },
  {
   "cell_type": "code",
   "execution_count": 4,
   "metadata": {},
   "outputs": [],
   "source": [
    "from PIL import Image\n",
    "\n",
    "\n",
    "for folder_class_name in folders_classes_names:\n",
    "    folder_class_target_path = os.path.join(dataset_target_dir, folder_class_name)\n",
    "    files = [f for f in os.listdir(folder_class_target_path) if not f.startswith('.')]\n",
    "\n",
    "    for file_name in files:\n",
    "        file_path = os.path.join(folder_class_target_path, file_name)\n",
    "        im = Image.open(file_path)\n",
    "        im.save(file_path + '.png', 'PNG')\n",
    "        os.remove(file_path)"
   ]
  },
  {
   "cell_type": "code",
   "execution_count": 5,
   "metadata": {},
   "outputs": [
    {
     "name": "stdout",
     "output_type": "stream",
     "text": [
      "ADI 5000\n",
      "BACK 5000\n",
      "DEB 5000\n",
      "LYM 5000\n",
      "MUC 5000\n",
      "MUS 5000\n",
      "NORM 5000\n",
      "STR 5000\n",
      "TUM 5000\n"
     ]
    }
   ],
   "source": [
    "for folder_class_name in folders_classes_names:\n",
    "    folder_class_target_path = os.path.join(dataset_target_dir, folder_class_name)\n",
    "    files = [f for f in os.listdir(folder_class_target_path) if not f.startswith('.')]\n",
    "    print(folder_class_name, len(files))"
   ]
  },
  {
   "cell_type": "code",
   "execution_count": null,
   "metadata": {},
   "outputs": [],
   "source": []
  }
 ],
 "metadata": {
  "kernelspec": {
   "display_name": "tf-xai",
   "language": "python",
   "name": "python3"
  },
  "language_info": {
   "codemirror_mode": {
    "name": "ipython",
    "version": 3
   },
   "file_extension": ".py",
   "mimetype": "text/x-python",
   "name": "python",
   "nbconvert_exporter": "python",
   "pygments_lexer": "ipython3",
   "version": "3.9.16"
  },
  "orig_nbformat": 4
 },
 "nbformat": 4,
 "nbformat_minor": 2
}
